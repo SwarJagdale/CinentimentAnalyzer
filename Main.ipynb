{
  "nbformat": 4,
  "nbformat_minor": 0,
  "metadata": {
    "colab": {
      "provenance": [],
      "gpuType": "T4"
    },
    "kernelspec": {
      "name": "python3",
      "display_name": "Python 3"
    },
    "language_info": {
      "name": "python"
    },
    "accelerator": "GPU"
  },
  "cells": [
    {
      "cell_type": "code",
      "execution_count": null,
      "metadata": {
        "id": "Xik8zMPdf3Om"
      },
      "outputs": [],
      "source": [
        "import tensorflow as tf\n",
        "import numpy as np"
      ]
    },
    {
      "cell_type": "code",
      "source": [
        "import tensorflow_datasets as tfds"
      ],
      "metadata": {
        "id": "SWrOb5itf_9C"
      },
      "execution_count": null,
      "outputs": []
    },
    {
      "cell_type": "code",
      "source": [
        "data, info =tfds.load(\"imdb_reviews\", with_info=True, as_supervised=True)"
      ],
      "metadata": {
        "id": "SMJ_PeR2gG9u"
      },
      "execution_count": null,
      "outputs": []
    },
    {
      "cell_type": "code",
      "source": [
        "class_names=info.features['label'].names"
      ],
      "metadata": {
        "id": "LLrSROOZgSB5"
      },
      "execution_count": null,
      "outputs": []
    },
    {
      "cell_type": "code",
      "source": [
        "class_names"
      ],
      "metadata": {
        "colab": {
          "base_uri": "https://localhost:8080/"
        },
        "id": "ppfcDGTBgWu-",
        "outputId": "2c1f1b02-ea4b-455f-8956-ef3262421edf"
      },
      "execution_count": null,
      "outputs": [
        {
          "output_type": "execute_result",
          "data": {
            "text/plain": [
              "['neg', 'pos']"
            ]
          },
          "metadata": {},
          "execution_count": 8
        }
      ]
    },
    {
      "cell_type": "code",
      "source": [
        "training_sentences=[]\n",
        "training_labels=[]\n",
        "for text, label in data['train']:\n",
        "  training_sentences.append(text.numpy().decode())\n",
        "  training_labels.append(label.numpy())\n",
        "\n",
        "testing_sentences=[]\n",
        "testing_labels=[]\n",
        "for text, label in data['test']:\n",
        "  testing_sentences.append(text.numpy().decode())\n",
        "  testing_labels.append(label.numpy())"
      ],
      "metadata": {
        "id": "kCLi15zXgqha"
      },
      "execution_count": null,
      "outputs": []
    },
    {
      "cell_type": "code",
      "source": [
        "training_labels=np.array(training_labels)\n",
        "testing_labels=np.array(testing_labels)"
      ],
      "metadata": {
        "id": "qXTLgz9Ghjnf"
      },
      "execution_count": null,
      "outputs": []
    },
    {
      "cell_type": "code",
      "source": [
        "len(testing_labels)"
      ],
      "metadata": {
        "colab": {
          "base_uri": "https://localhost:8080/"
        },
        "id": "cGEexUKLhuL7",
        "outputId": "0f7f1241-3894-42ca-e93d-7a8e88c8905b"
      },
      "execution_count": null,
      "outputs": [
        {
          "output_type": "execute_result",
          "data": {
            "text/plain": [
              "25000"
            ]
          },
          "metadata": {},
          "execution_count": 11
        }
      ]
    },
    {
      "cell_type": "code",
      "source": [
        "!pip install git+https://github.com/laxmimerit/preprocess_kgptalkie.git --upgrade --force-reinstall"
      ],
      "metadata": {
        "colab": {
          "base_uri": "https://localhost:8080/"
        },
        "id": "U3Ur5q8qhvC0",
        "outputId": "ee1db1c5-bf93-4634-ecfe-244a13180a85"
      },
      "execution_count": null,
      "outputs": [
        {
          "output_type": "stream",
          "name": "stdout",
          "text": [
            "Collecting git+https://github.com/laxmimerit/preprocess_kgptalkie.git\n",
            "  Cloning https://github.com/laxmimerit/preprocess_kgptalkie.git to /tmp/pip-req-build-_gn1kl01\n",
            "  Running command git clone --filter=blob:none --quiet https://github.com/laxmimerit/preprocess_kgptalkie.git /tmp/pip-req-build-_gn1kl01\n",
            "  Resolved https://github.com/laxmimerit/preprocess_kgptalkie.git to commit 9ca68d37027af9f6a30d54640347ce3b2e2694b3\n",
            "  Preparing metadata (setup.py) ... \u001b[?25l\u001b[?25hdone\n",
            "Building wheels for collected packages: preprocess-kgptalkie\n",
            "  Building wheel for preprocess-kgptalkie (setup.py) ... \u001b[?25l\u001b[?25hdone\n",
            "  Created wheel for preprocess-kgptalkie: filename=preprocess_kgptalkie-0.1.3-py3-none-any.whl size=7621 sha256=d5d2d94ca7f287bb96328589e01b3c0f03a30e0b06a512c8b5db9f8dc6a14c4f\n",
            "  Stored in directory: /tmp/pip-ephem-wheel-cache-j9bxp7ev/wheels/5c/94/34/99d5ff65e88b8d9a6c5e8d8652f2311d87790a61a1b7466e21\n",
            "Successfully built preprocess-kgptalkie\n",
            "Installing collected packages: preprocess-kgptalkie\n",
            "  Attempting uninstall: preprocess-kgptalkie\n",
            "    Found existing installation: preprocess-kgptalkie 0.1.3\n",
            "    Uninstalling preprocess-kgptalkie-0.1.3:\n",
            "      Successfully uninstalled preprocess-kgptalkie-0.1.3\n",
            "Successfully installed preprocess-kgptalkie-0.1.3\n"
          ]
        }
      ]
    },
    {
      "cell_type": "code",
      "source": [
        "import preprocess_kgptalkie as ps\n",
        "import re\n",
        "\n",
        "def get_clean(x):\n",
        "    x = str(x).lower().replace('\\\\', '').replace('_', ' ')\n",
        "    x = ps.cont_exp(x)\n",
        "    x = ps.remove_emails(x)\n",
        "    x = ps.remove_urls(x)\n",
        "    x = ps.remove_html_tags(x)\n",
        "    x = ps.remove_accented_chars(x)\n",
        "    x = ps.remove_special_chars(x)\n",
        "    x = re.sub(\"(.)\\\\1{2,}\", \"\\\\1\", x)\n",
        "    return x"
      ],
      "metadata": {
        "id": "MVWctYyph9jp"
      },
      "execution_count": null,
      "outputs": []
    },
    {
      "cell_type": "code",
      "source": [
        "training_sentences = [get_clean(x) for x in training_sentences]\n",
        "testing_sentences = [get_clean(x) for x in testing_sentences]"
      ],
      "metadata": {
        "colab": {
          "base_uri": "https://localhost:8080/"
        },
        "id": "wIWcfcYmiHz0",
        "outputId": "29b1ed41-4795-451c-94f8-724ca6a64a30"
      },
      "execution_count": null,
      "outputs": [
        {
          "output_type": "stream",
          "name": "stderr",
          "text": [
            "/usr/local/lib/python3.10/dist-packages/preprocess_kgptalkie/utils.py:97: MarkupResemblesLocatorWarning: The input looks more like a filename than markup. You may want to open this file and pass the filehandle into Beautiful Soup.\n",
            "  return BeautifulSoup(x, 'lxml').get_text().strip()\n"
          ]
        }
      ]
    },
    {
      "cell_type": "code",
      "source": [
        "from tensorflow import keras\n",
        "from keras.preprocessing.text import Tokenizer\n",
        "from tensorflow.keras.preprocessing.sequence import pad_sequences"
      ],
      "metadata": {
        "id": "dn2puJM_kx9M"
      },
      "execution_count": null,
      "outputs": []
    },
    {
      "cell_type": "code",
      "source": [
        "vocab_size=50000\n",
        "input_length=1000\n",
        "tokenizer=Tokenizer(num_words=vocab_size,oov_token='<OOV>')\n",
        "tokenizer.fit_on_texts(training_sentences)\n",
        "training_sequences=tokenizer.texts_to_sequences(training_sentences)\n",
        "training_padded=pad_sequences(training_sequences, maxlen=input_length,padding='post',truncating='post')\n",
        "testing_sequences=tokenizer.texts_to_sequences(testing_sentences)\n",
        "testing_padded=pad_sequences(testing_sequences, maxlen=input_length, padding='post', truncating='post')"
      ],
      "metadata": {
        "id": "O9v1TLxhiWig"
      },
      "execution_count": null,
      "outputs": []
    },
    {
      "cell_type": "code",
      "source": [
        "vocab_dic=tokenizer.word_index\n"
      ],
      "metadata": {
        "id": "3ie05GT4l_13"
      },
      "execution_count": null,
      "outputs": []
    },
    {
      "cell_type": "code",
      "source": [
        "input_length"
      ],
      "metadata": {
        "colab": {
          "base_uri": "https://localhost:8080/"
        },
        "id": "1BHUrvPsmw5Z",
        "outputId": "d54dbb82-c10b-4746-e629-5292b9ff6754"
      },
      "execution_count": null,
      "outputs": [
        {
          "output_type": "execute_result",
          "data": {
            "text/plain": [
              "1000"
            ]
          },
          "metadata": {},
          "execution_count": 18
        }
      ]
    },
    {
      "cell_type": "code",
      "source": [
        "from keras import Sequential\n",
        "from keras.layers import Embedding, LSTM, Dense,Conv1D, GlobalAveragePooling1D, Dropout\n",
        "from keras.callbacks import EarlyStopping"
      ],
      "metadata": {
        "id": "EsQguB28mGiR"
      },
      "execution_count": null,
      "outputs": []
    },
    {
      "cell_type": "code",
      "source": [
        "model=Sequential()\n",
        "model.add(Embedding(vocab_size,64,input_length=input_length))\n",
        "model.add(Conv1D(64,3,activation='relu'))\n",
        "model.add(Conv1D(128,3,activation='relu'))\n",
        "model.add(GlobalAveragePooling1D())\n",
        "model.add(Dense(64,activation='relu'))\n",
        "model.add(Dropout(0.2))\n",
        "model.add(Dense(1,activation='sigmoid'))\n",
        "model.compile(loss='binary_crossentropy',optimizer=keras.optimizers.Adam(learning_rate=0.0001),metrics=['accuracy'])"
      ],
      "metadata": {
        "id": "iDVA56YsoN8p"
      },
      "execution_count": null,
      "outputs": []
    },
    {
      "cell_type": "code",
      "source": [
        "early_stopping = EarlyStopping(monitor='val_loss', patience=3)\n",
        "history=model.fit(training_padded,training_labels,epochs=4,validation_data=(testing_padded,testing_labels))"
      ],
      "metadata": {
        "colab": {
          "base_uri": "https://localhost:8080/"
        },
        "id": "4gzzGrlipXKG",
        "outputId": "604a8de7-119c-4922-88f6-5d9392498c38"
      },
      "execution_count": null,
      "outputs": [
        {
          "output_type": "stream",
          "name": "stdout",
          "text": [
            "Epoch 1/4\n",
            "782/782 [==============================] - 89s 112ms/step - loss: 0.6682 - accuracy: 0.5872 - val_loss: 0.5230 - val_accuracy: 0.8008\n",
            "Epoch 2/4\n",
            "782/782 [==============================] - 46s 58ms/step - loss: 0.3531 - accuracy: 0.8675 - val_loss: 0.3373 - val_accuracy: 0.8668\n",
            "Epoch 3/4\n",
            "782/782 [==============================] - 29s 36ms/step - loss: 0.2384 - accuracy: 0.9123 - val_loss: 0.3011 - val_accuracy: 0.8811\n",
            "Epoch 4/4\n",
            "782/782 [==============================] - 21s 27ms/step - loss: 0.1837 - accuracy: 0.9343 - val_loss: 0.3004 - val_accuracy: 0.8836\n"
          ]
        }
      ]
    },
    {
      "cell_type": "code",
      "source": [
        "import matplotlib.pyplot as plt"
      ],
      "metadata": {
        "id": "mXES4IsPtJO0"
      },
      "execution_count": null,
      "outputs": []
    },
    {
      "cell_type": "code",
      "source": [
        "plt.plot(history.history['accuracy'], label='Training Accuracy')\n",
        "plt.plot(history.history['val_accuracy'], label='Validation Accuracy')\n",
        "plt.legend()\n",
        "plt.show()"
      ],
      "metadata": {
        "colab": {
          "base_uri": "https://localhost:8080/",
          "height": 434
        },
        "id": "AvwEMQVpsIA6",
        "outputId": "a5d165a9-aaa8-4a65-ab51-2aaeb4a4b115"
      },
      "execution_count": null,
      "outputs": [
        {
          "output_type": "display_data",
          "data": {
            "text/plain": [
              "<Figure size 640x480 with 1 Axes>"
            ],
            "image/png": "[encoded data removed]"
          },
          "metadata": {}
        }
      ]
    },
    {
      "cell_type": "code",
      "source": [
        "import pickle\n",
        "pickle.dump(tokenizer,open('tokenizer.pkl','wb'))\n",
        "model.save('imdb_sent_analysis.h5')\n"
      ],
      "metadata": {
        "colab": {
          "base_uri": "https://localhost:8080/"
        },
        "id": "uIKuXINdt5Sl",
        "outputId": "1a02a353-d2e8-44e0-a7e0-1258eedab572"
      },
      "execution_count": null,
      "outputs": [
        {
          "output_type": "stream",
          "name": "stderr",
          "text": [
            "/usr/local/lib/python3.10/dist-packages/keras/src/engine/training.py:3000: UserWarning: You are saving your model as an HDF5 file via `model.save()`. This file format is considered legacy. We recommend using instead the native Keras format, e.g. `model.save('my_model.keras')`.\n",
            "  saving_api.save_model(\n"
          ]
        }
      ]
    },
    {
      "cell_type": "code",
      "source": [
        "from keras.models import load_model"
      ],
      "metadata": {
        "id": "ZxjVx97lzGUb"
      },
      "execution_count": null,
      "outputs": []
    },
    {
      "cell_type": "code",
      "source": [
        "model1=load_model('imdb_sent_analysis.h5')\n",
        "token1=pickle.load(open('tokenizer.pkl','rb'))"
      ],
      "metadata": {
        "id": "e6EjLQdPzWY1"
      },
      "execution_count": null,
      "outputs": []
    },
    {
      "cell_type": "code",
      "source": [
        "reviews = [\n",
        "    \"I absolutely loved this movie! The acting was fantastic, and the plot was engaging.\",\n",
        "    \"The film was a bit disappointing. It had some good moments, but it didn't meet my expectations.\",\n",
        "    \"This movie is a masterpiece. The performances by the cast were outstanding, and the storyline was brilliantly crafted.\",\n",
        "    \"I found the movie to be just average. It had its moments, but overall, it didn't leave a strong impression.\",\n",
        "    \"An incredible cinematic experience! The actors delivered remarkable performances, and the direction was superb.\",\n",
        "    \"The movie was a letdown. I expected more from it, but it fell short in terms of storytelling and character development.\",\n",
        "    \"A must-watch film! The acting was phenomenal, and the emotional depth of the story was truly captivating.\",\n",
        "    \"I wasn't too impressed with the movie. It had potential, but it didn't quite deliver on its promise.\",\n",
        "    \"This is one of the best movies I've ever seen. The acting, direction, and writing were all exceptional.\",\n",
        "    \"The movie had its moments, but it lacked consistency. Some scenes were great, while others felt forced.\",\n",
        "    \"Great film, I thoroughly enjoyed it!\",\n",
        "    \"It was an okay movie, nothing too special.\",\n",
        "    \"Not a fan of this one. The plot was confusing, and the characters were poorly developed.\",\n",
        "    \"I couldn't make sense of the storyline. It was all over the place.\",\n",
        "    \"I guess some people might like it, but it's definitely not my cup of tea.\",\n",
        "    \"I'm still trying to figure out what the director was thinking with this one.\",\n",
        "    \"Wow, what a fantastic movie NOT! It was a complete waste of my time.\",\n",
        "    \"The performances were so awful; it's almost impressive.\",\n",
        "    \"I couldn't stop yawning throughout the film. It was THAT exciting.\",\n",
        "    \"This movie is definitely NOT a classic. Don't believe the hype.\",\n",
        "    \"I absolutely loved this movie NOT! The acting was terrible, and the plot was boring.\",\n",
        "    \"The film was a bit disappointing, NOT. It had some good moments, NOT, but it didn't meet my expectations, NOT.\",\n",
        "    \"This movie is a masterpiece NOT. The performances by the cast were terrible, and the storyline was poorly crafted.\",\n",
        "    \"I found the movie to be just average, NOT. It had its moments, NOT, but overall, it didn't leave a strong impression, NOT.\",\n",
        "    \"An incredible cinematic experience NOT! The actors delivered terrible performances, and the direction was awful.\",\n",
        "    \"The movie was a letdown, NOT! I expected more from it, NOT, but it fell short in terms of storytelling and character development, NOT.\",\n",
        "    \"A must-watch film NOT! The acting was phenomenal, NOT, and the emotional depth of the story was truly captivating, NOT.\",\n",
        "    \"I wasn't too impressed with the movie, NOT. It had potential, NOT, but it didn't quite deliver on its promise, NOT.\",\n",
        "]\n",
        "\n",
        "\n",
        "\n",
        "\n",
        "\n",
        "reviews=[get_clean(x) for x in reviews]\n",
        "new_seqs=token1.texts_to_sequences(reviews)\n",
        "new_pad=pad_sequences(new_seqs,maxlen=input_length,padding='post',truncating='post')\n",
        "pred=model1.predict(new_pad )"
      ],
      "metadata": {
        "colab": {
          "base_uri": "https://localhost:8080/"
        },
        "id": "qyu0KKP0zgwx",
        "outputId": "18265fd2-6610-4572-b105-17f09470408f"
      },
      "execution_count": null,
      "outputs": [
        {
          "output_type": "stream",
          "name": "stdout",
          "text": [
            "1/1 [==============================] - 0s 109ms/step\n"
          ]
        }
      ]
    },
    {
      "cell_type": "code",
      "source": [
        "[class_names[int(x[0])]for x in pred>0.5]"
      ],
      "metadata": {
        "colab": {
          "base_uri": "https://localhost:8080/"
        },
        "id": "iL0qaK5rz8Un",
        "outputId": "7b505abc-80a7-45f5-a331-469a57a68235"
      },
      "execution_count": null,
      "outputs": [
        {
          "output_type": "execute_result",
          "data": {
            "text/plain": [
              "['pos',\n",
              " 'neg',\n",
              " 'pos',\n",
              " 'neg',\n",
              " 'pos',\n",
              " 'neg',\n",
              " 'pos',\n",
              " 'neg',\n",
              " 'pos',\n",
              " 'pos',\n",
              " 'pos',\n",
              " 'neg',\n",
              " 'neg',\n",
              " 'neg',\n",
              " 'pos',\n",
              " 'neg',\n",
              " 'neg',\n",
              " 'neg',\n",
              " 'neg',\n",
              " 'neg',\n",
              " 'neg',\n",
              " 'neg',\n",
              " 'neg',\n",
              " 'neg',\n",
              " 'neg',\n",
              " 'neg',\n",
              " 'neg',\n",
              " 'neg']"
            ]
          },
          "metadata": {},
          "execution_count": 48
        }
      ]
    },
    {
      "cell_type": "code",
      "source": [
        "def analyse_sent(x):\n",
        "  if x>=0.6:\n",
        "    return \"Very Positive\"\n",
        "  if x<=0.4:\n",
        "    return \"Very Negative\"\n",
        "  if x>=0.525 and x<0.6:\n",
        "    return \"Positive\"\n",
        "  if x<=0.475 and x>0.4:\n",
        "    return \"Negative\"\n",
        "  if x<0.525 and x>0.475:\n",
        "    return \"Neutral\""
      ],
      "metadata": {
        "id": "lGy3uNBbz_rR"
      },
      "execution_count": null,
      "outputs": []
    },
    {
      "cell_type": "code",
      "source": [
        "pred1=[analyse_sent(rev) for rev in pred]"
      ],
      "metadata": {
        "id": "lPiEYED50sPi"
      },
      "execution_count": null,
      "outputs": []
    },
    {
      "cell_type": "code",
      "source": [
        "pred1"
      ],
      "metadata": {
        "colab": {
          "base_uri": "https://localhost:8080/"
        },
        "id": "RNGg3uad1Z8g",
        "outputId": "35858dcb-7b56-48ad-b98a-541fa9294194"
      },
      "execution_count": null,
      "outputs": [
        {
          "output_type": "execute_result",
          "data": {
            "text/plain": [
              "['Positive',\n",
              " 'Very Negative',\n",
              " 'Very Positive',\n",
              " 'Negative',\n",
              " 'Very Positive',\n",
              " 'Negative',\n",
              " 'Positive',\n",
              " 'Very Negative',\n",
              " 'Positive',\n",
              " 'Neutral',\n",
              " 'Very Positive',\n",
              " 'Very Negative',\n",
              " 'Very Negative',\n",
              " 'Very Negative',\n",
              " 'Neutral',\n",
              " 'Very Negative',\n",
              " 'Very Negative',\n",
              " 'Very Negative',\n",
              " 'Neutral',\n",
              " 'Neutral',\n",
              " 'Very Negative',\n",
              " 'Very Negative',\n",
              " 'Very Negative',\n",
              " 'Very Negative',\n",
              " 'Very Negative',\n",
              " 'Very Negative',\n",
              " 'Negative',\n",
              " 'Very Negative']"
            ]
          },
          "metadata": {},
          "execution_count": 51
        }
      ]
    },
    {
      "cell_type": "code",
      "source": [],
      "metadata": {
        "id": "J2s8f4QL1eHJ"
      },
      "execution_count": null,
      "outputs": []
    }
  ]
}